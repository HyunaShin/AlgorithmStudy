{
 "cells": [
  {
   "cell_type": "markdown",
   "metadata": {},
   "source": [
    "### 시험감독\n",
    "- 백준 13458번 문제\n",
    "- 아이디어\n",
    "    - 시험장당 총감독관은 오직 한명이 있어야 한다.  총감독관들의 수를 미리 업데이트해둔다\n",
    "    - 이후 각 공간의 응시자 수에서 감독관이 감시 가능한 응시생 수를 뺀다\n",
    "    - 이 때, 가능한 가지수는 다음과 같다.\n",
    "        1. 총 감독관이 감시 가능한 응시생 수가 각 방의 응시생 수와 같다.\n",
    "        2. 총 감독관이 감시 가능한 응시생 수가 각 방의 응시생 수보다 적다.\n",
    "        3. 총 감독관이 감시 가능한 응시생 수가 각 방의 응시생 수보다 많다.\n",
    "        \n",
    "    - 미리 숫자를 뺐기 때문에, 음수가 나올 수 있다.\n",
    "    - 따라서 음수인지 아닌지 확인을 해야하고, 나머지가 0인지 아닌지 확인해야한다."
   ]
  },
  {
   "cell_type": "code",
   "execution_count": 73,
   "metadata": {},
   "outputs": [
    {
     "name": "stdout",
     "output_type": "stream",
     "text": [
      "3\n",
      "3 4 5\n",
      "2 2\n",
      "1\n",
      "2\n",
      "7\n"
     ]
    }
   ],
   "source": [
    "def directing(num_of_place, num_of_student, capa_of_sub_director, capa_of_director):\n",
    "    total_director = num_of_place\n",
    "    for place_idx in range(num_of_place):    \n",
    "        sub_director = int((num_of_student[place_idx] - capa_of_director)/capa_of_sub_director)\n",
    "        if(num_of_student[place_idx] - capa_of_director > 0):\n",
    "            if (num_of_student[place_idx] - capa_of_director)%capa_of_sub_director >0:\n",
    "                sub_director+=1\n",
    "            total_director += sub_director\n",
    "    return total_director\n",
    "\n",
    "num_of_place, num_of_student, direct_info  = [ list(map(int, input().strip().split(\" \"))) for i in range(3)]\n",
    "num_of_place = num_of_place[0]\n",
    "[capa_of_director, capa_of_subdirector] = direct_info\n",
    "print(directing(num_of_place, num_of_student, capa_of_subdirector, capa_of_director))"
   ]
  }
 ],
 "metadata": {
  "kernelspec": {
   "display_name": "Python 3",
   "language": "python",
   "name": "python3"
  },
  "language_info": {
   "codemirror_mode": {
    "name": "ipython",
    "version": 3
   },
   "file_extension": ".py",
   "mimetype": "text/x-python",
   "name": "python",
   "nbconvert_exporter": "python",
   "pygments_lexer": "ipython3",
   "version": "3.6.4"
  }
 },
 "nbformat": 4,
 "nbformat_minor": 2
}
